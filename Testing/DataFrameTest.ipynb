{
 "cells": [
  {
   "cell_type": "code",
   "execution_count": 3,
   "metadata": {},
   "outputs": [
    {
     "ename": "TypeError",
     "evalue": "'dict' object cannot be interpreted as an integer",
     "output_type": "error",
     "traceback": [
      "\u001b[0;31m---------------------------------------------------------------------------\u001b[0m",
      "\u001b[0;31mTypeError\u001b[0m                                 Traceback (most recent call last)",
      "Cell \u001b[0;32mIn[3], line 9\u001b[0m\n\u001b[1;32m      5\u001b[0m \u001b[39mfrom\u001b[39;00m \u001b[39mFunctions\u001b[39;00m\u001b[39m.\u001b[39;00m\u001b[39mConnection\u001b[39;00m \u001b[39mimport\u001b[39;00m Connection\n\u001b[1;32m      7\u001b[0m conn \u001b[39m=\u001b[39m Connection(\u001b[39m\"\u001b[39m\u001b[39mbolt+s://e3a58db5.databases.neo4j.io:7687\u001b[39m\u001b[39m\"\u001b[39m, \u001b[39m\"\u001b[39m\u001b[39mneo4j\u001b[39m\u001b[39m\"\u001b[39m, \u001b[39m\"\u001b[39m\u001b[39mKR14Xk19s07EJwooFQ9-3dAnH7cL-b9FxnEAVSmG3f0\u001b[39m\u001b[39m\"\u001b[39m)\n\u001b[0;32m----> 9\u001b[0m df \u001b[39m=\u001b[39m relationMatching(\u001b[39m1\u001b[39;49m, conn)\n\u001b[1;32m     11\u001b[0m conn\u001b[39m.\u001b[39mclose()\n\u001b[1;32m     13\u001b[0m f \u001b[39m=\u001b[39m \u001b[39mopen\u001b[39m(\u001b[39m\"\u001b[39m\u001b[39m/home/pietro/Desktop/graph_matching/Contents/RelationMatchingAnalisi.csv\u001b[39m\u001b[39m\"\u001b[39m, \u001b[39m\"\u001b[39m\u001b[39mw\u001b[39m\u001b[39m\"\u001b[39m)\n",
      "File \u001b[0;32m~/Desktop/graph_matching/Functions/RelationMatching.py:188\u001b[0m, in \u001b[0;36mrelationMatching\u001b[0;34m(id, conn)\u001b[0m\n\u001b[1;32m    186\u001b[0m \u001b[39mif\u001b[39;00m \u001b[39mlen\u001b[39m(toRem) \u001b[39m>\u001b[39m \u001b[39m0\u001b[39m: \u001b[39m#rimozione scadute e contraddittorie dirette in relE2\u001b[39;00m\n\u001b[1;32m    187\u001b[0m     \u001b[39mfor\u001b[39;00m rem \u001b[39min\u001b[39;00m toRem:\n\u001b[0;32m--> 188\u001b[0m         relE2\u001b[39m.\u001b[39;49mpop(rem)\n\u001b[1;32m    189\u001b[0m     toRem \u001b[39m=\u001b[39m \u001b[39mlist\u001b[39m()\n\u001b[1;32m    190\u001b[0m \u001b[39mif\u001b[39;00m compl: \u001b[39m# COMPLEMENTARE\u001b[39;00m\n",
      "\u001b[0;31mTypeError\u001b[0m: 'dict' object cannot be interpreted as an integer"
     ]
    }
   ],
   "source": [
    "import sys\n",
    "sys.path.insert(0, '..')\n",
    "\n",
    "from Functions.RelationMatching import relationMatching\n",
    "from Functions.Connection import Connection\n",
    "\n",
    "conn = Connection(\"bolt+s://e3a58db5.databases.neo4j.io:7687\", \"neo4j\", \"KR14Xk19s07EJwooFQ9-3dAnH7cL-b9FxnEAVSmG3f0\")\n",
    "\n",
    "df = relationMatching(1, conn)\n",
    "\n",
    "conn.close()\n",
    "\n",
    "f = open(\"/home/pietro/Desktop/graph_matching/Contents/RelationMatchingAnalisi.csv\", \"w\")\n",
    "f.write(df.to_csv())\n",
    "f.close()"
   ]
  },
  {
   "cell_type": "code",
   "execution_count": null,
   "metadata": {},
   "outputs": [],
   "source": []
  }
 ],
 "metadata": {
  "kernelspec": {
   "display_name": "Python 3",
   "language": "python",
   "name": "python3"
  },
  "language_info": {
   "codemirror_mode": {
    "name": "ipython",
    "version": 3
   },
   "file_extension": ".py",
   "mimetype": "text/x-python",
   "name": "python",
   "nbconvert_exporter": "python",
   "pygments_lexer": "ipython3",
   "version": "3.9.2"
  },
  "orig_nbformat": 4,
  "vscode": {
   "interpreter": {
    "hash": "916dbcbb3f70747c44a77c7bcd40155683ae19c65e1c03b4aa3499c5328201f1"
   }
  }
 },
 "nbformat": 4,
 "nbformat_minor": 2
}
