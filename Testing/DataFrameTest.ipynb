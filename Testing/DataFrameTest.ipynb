{
 "cells": [
  {
   "cell_type": "code",
   "execution_count": 1,
   "metadata": {},
   "outputs": [],
   "source": [
    "import sys\n",
    "sys.path.insert(0, '..')\n",
    "\n",
    "from Functions.RelationMatching import relationMatching\n",
    "from Functions.Connection import Connection\n",
    "from Functions.Entity import create_instance_mine\n",
    "conn = Connection(\"bolt+s://e3a58db5.databases.neo4j.io:7687\", \"neo4j\", \"KR14Xk19s07EJwooFQ9-3dAnH7cL-b9FxnEAVSmG3f0\")\n",
    "\n",
    "create_istance_mine(conn, \"Person\", {\"Name\" : \"Pietro\",  \"Surname\" : \"Masolini\", \"Sesso\" :  \"M\", \"Peso\" : \"68.5\", \"Altezza\" : \"180\"}, 1, 404)\n",
    "\n",
    "#df = relationMatching(1, conn)\n",
    "\n",
    "conn.close()\n",
    "\n",
    "#f = open(\"/home/pietro/Desktop/graph_matching/Contents/RelationMatchingAnalisi.csv\", \"w\")\n",
    "#f.write(df.to_csv())\n",
    "#f.close()"
   ]
  },
  {
   "cell_type": "code",
   "execution_count": null,
   "metadata": {},
   "outputs": [],
   "source": []
  }
 ],
 "metadata": {
  "kernelspec": {
   "display_name": "base",
   "language": "python",
   "name": "python3"
  },
  "language_info": {
   "codemirror_mode": {
    "name": "ipython",
    "version": 3
   },
   "file_extension": ".py",
   "mimetype": "text/x-python",
   "name": "python",
   "nbconvert_exporter": "python",
   "pygments_lexer": "ipython3",
   "version": "3.9.12"
  },
  "orig_nbformat": 4,
  "vscode": {
   "interpreter": {
    "hash": "4e54dadbff760a2b257dbc9446e5f6f937da50c84a40f83ba6e5558ca37523bf"
   }
  }
 },
 "nbformat": 4,
 "nbformat_minor": 2
}
