{
 "cells": [
  {
   "cell_type": "code",
   "execution_count": 1,
   "metadata": {},
   "outputs": [
    {
     "name": "stdout",
     "output_type": "stream",
     "text": [
      "MADRE_DI in contraddizione con MADRE_DI\n",
      "MOGLIE_DI in contraddizione con MOGLIE_DI\n",
      "ZIA_DI in contraddizione con ZIA_DI\n",
      "NONNA_DI in contraddizione con NONNA_DI\n",
      "NONNA_DI in contraddizione con NONNA_DI\n",
      "Relazione semifissa NONNA_DI -- ['Relazione di tipo NONNA_DI corretta'] -- getInfoSemi-> ultimoForEntranti\n",
      "Relazione semifissa NONNO_DI -- ['Relazione di tipo NONNO_DI contraddittoria, nei due grafi esplorati esistono ben 3 di queste relazioni'] -- getInfoSemi-> ultimoForEntranti\n"
     ]
    }
   ],
   "source": [
    "import sys\n",
    "sys.path.insert(0, '..')\n",
    "\n",
    "from Functions.RelationMatching import relationMatching\n",
    "from Functions.Connection import Connection\n",
    "\n",
    "conn = Connection(\"bolt+s://e3a58db5.databases.neo4j.io:7687\", \"neo4j\", \"KR14Xk19s07EJwooFQ9-3dAnH7cL-b9FxnEAVSmG3f0\")\n",
    "\n",
    "df = relationMatching(1, conn)\n",
    "\n",
    "conn.close()\n",
    "\n",
    "f = open(\"/home/pietro/Desktop/graph_matching/Contents/RelationMatchingAnalisi.csv\", \"w\")\n",
    "f.write(df.to_csv())\n",
    "f.close()"
   ]
  },
  {
   "cell_type": "code",
   "execution_count": 2,
   "metadata": {},
   "outputs": [
    {
     "data": {
      "text/plain": [
       "True"
      ]
     },
     "execution_count": 2,
     "metadata": {},
     "output_type": "execute_result"
    }
   ],
   "source": [
    "l = [1,2,3,4,5]\n",
    "l.__contains__(1)"
   ]
  },
  {
   "cell_type": "code",
   "execution_count": null,
   "metadata": {},
   "outputs": [],
   "source": []
  }
 ],
 "metadata": {
  "kernelspec": {
   "display_name": "Python 3",
   "language": "python",
   "name": "python3"
  },
  "language_info": {
   "codemirror_mode": {
    "name": "ipython",
    "version": 3
   },
   "file_extension": ".py",
   "mimetype": "text/x-python",
   "name": "python",
   "nbconvert_exporter": "python",
   "pygments_lexer": "ipython3",
   "version": "3.9.2"
  },
  "orig_nbformat": 4,
  "vscode": {
   "interpreter": {
    "hash": "916dbcbb3f70747c44a77c7bcd40155683ae19c65e1c03b4aa3499c5328201f1"
   }
  }
 },
 "nbformat": 4,
 "nbformat_minor": 2
}
