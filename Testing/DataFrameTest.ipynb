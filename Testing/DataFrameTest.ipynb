{
 "cells": [
  {
   "cell_type": "code",
   "execution_count": 1,
   "metadata": {},
   "outputs": [],
   "source": [
    "import sys\n",
    "sys.path.insert(0, '..')\n",
    "\n",
    "from Functions.RelationMatching import relationMatching\n",
    "from Functions.Connection import Connection\n",
    "\n",
    "conn = Connection(\"bolt+s://e3a58db5.databases.neo4j.io:7687\", \"neo4j\", \"KR14Xk19s07EJwooFQ9-3dAnH7cL-b9FxnEAVSmG3f0\")\n",
    "\n",
    "df = relationMatching(1, conn)\n",
    "\n",
    "conn.close()\n",
    "\n",
    "f = open(\"/home/pietro/Desktop/graph_matching/Contents/RelationMatchingAnalisi.csv\", \"w\")\n",
    "f.write(df.to_csv())\n",
    "f.close()"
   ]
  },
  {
   "cell_type": "code",
   "execution_count": null,
   "metadata": {},
   "outputs": [],
   "source": []
  }
 ],
 "metadata": {
  "kernelspec": {
   "display_name": "Python 3",
   "language": "python",
   "name": "python3"
  },
  "language_info": {
   "codemirror_mode": {
    "name": "ipython",
    "version": 3
   },
   "file_extension": ".py",
   "mimetype": "text/x-python",
   "name": "python",
   "nbconvert_exporter": "python",
   "pygments_lexer": "ipython3",
   "version": "3.9.2"
  },
  "orig_nbformat": 4,
  "vscode": {
   "interpreter": {
    "hash": "916dbcbb3f70747c44a77c7bcd40155683ae19c65e1c03b4aa3499c5328201f1"
   }
  }
 },
 "nbformat": 4,
 "nbformat_minor": 2
}
